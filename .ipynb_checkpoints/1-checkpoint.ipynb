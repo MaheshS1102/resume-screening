{
 "cells": [
  {
   "cell_type": "code",
   "execution_count": null,
   "id": "1679bb91-9b80-4b75-be9d-c0010de7ce08",
   "metadata": {},
   "outputs": [],
   "source": []
  }
 ],
 "metadata": {
  "kernelspec": {
   "display_name": "",
   "name": ""
  },
  "language_info": {
   "name": ""
  }
 },
 "nbformat": 4,
 "nbformat_minor": 5
}
